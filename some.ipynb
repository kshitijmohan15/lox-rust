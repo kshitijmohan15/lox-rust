{
 "cells": [
  {
   "cell_type": "code",
   "execution_count": 3,
   "metadata": {},
   "outputs": [],
   "source": [
    "input = \"LEFT_PAREN, RIGHT_PAREN, LEFT_BRACE, RIGHT_BRACE,COMMA, DOT, MINUS, PLUS, SEMICOLON, SLASH, STAR,BANG, BANG_EQUAL,EQUAL, EQUAL_EQUAL,GREATER, GREATER_EQUAL,LESS, LESS_EQUAL,IDENTIFIER, STRING, NUMBER,AND, CLASS, ELSE, FALSE, FUN, FOR, IF, NIL, OR,PRINT, RETURN, SUPER, THIS, TRUE, VAR, WHILE,EOF\""
   ]
  },
  {
   "cell_type": "code",
   "execution_count": 9,
   "metadata": {},
   "outputs": [
    {
     "data": {
      "text/plain": [
       "'LeftParen, RightParen, LeftBrace, RightBrace, Comma, Dot, Minus, Plus, Semicolon, Slash, Star, Bang, BangEqual, Equal, EqualEqual, Greater, GreaterEqual, Less, LessEqual, Identifier, String, Number, And, Class, Else, False, Fun, For, If, Nil, Or, Print, Return, Super, This, True, Var, While, Eof'"
      ]
     },
     "execution_count": 9,
     "metadata": {},
     "output_type": "execute_result"
    }
   ],
   "source": [
    "# split by comma, strip whitespace, turn into camelcase, and join with a comma\n",
    "output = \", \".join([x.strip().title().replace(\"_\", \"\") for x in input.split(\",\")])\n",
    "output"
   ]
  }
 ],
 "metadata": {
  "kernelspec": {
   "display_name": "Python 3",
   "language": "python",
   "name": "python3"
  },
  "language_info": {
   "codemirror_mode": {
    "name": "ipython",
    "version": 3
   },
   "file_extension": ".py",
   "mimetype": "text/x-python",
   "name": "python",
   "nbconvert_exporter": "python",
   "pygments_lexer": "ipython3",
   "version": "3.9.7"
  },
  "orig_nbformat": 4
 },
 "nbformat": 4,
 "nbformat_minor": 2
}
